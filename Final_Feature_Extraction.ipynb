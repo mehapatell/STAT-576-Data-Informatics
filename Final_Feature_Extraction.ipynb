{
 "cells": [
  {
   "cell_type": "code",
   "execution_count": 1,
   "id": "f869e2e7",
   "metadata": {},
   "outputs": [],
   "source": [
    "import numpy as np \n",
    "import matplotlib.pyplot as plt\n",
    "import pandas as pd\n",
    "from sklearn import datasets, decomposition\n",
    "import seaborn as sns\n",
    "from sklearn.manifold import MDS"
   ]
  },
  {
   "cell_type": "code",
   "execution_count": 3,
   "id": "bab22477",
   "metadata": {},
   "outputs": [
    {
     "name": "stdout",
     "output_type": "stream",
     "text": [
      "(14, 7443)\n"
     ]
    },
    {
     "data": {
      "text/html": [
       "<div>\n",
       "<style scoped>\n",
       "    .dataframe tbody tr th:only-of-type {\n",
       "        vertical-align: middle;\n",
       "    }\n",
       "\n",
       "    .dataframe tbody tr th {\n",
       "        vertical-align: top;\n",
       "    }\n",
       "\n",
       "    .dataframe thead th {\n",
       "        text-align: right;\n",
       "    }\n",
       "</style>\n",
       "<table border=\"1\" class=\"dataframe\">\n",
       "  <thead>\n",
       "    <tr style=\"text-align: right;\">\n",
       "      <th></th>\n",
       "      <th>Features</th>\n",
       "      <th>11</th>\n",
       "      <th>21</th>\n",
       "      <th>45</th>\n",
       "      <th>50</th>\n",
       "      <th>57</th>\n",
       "      <th>68</th>\n",
       "      <th>82</th>\n",
       "      <th>118</th>\n",
       "      <th>119</th>\n",
       "      <th>...</th>\n",
       "      <th>68404</th>\n",
       "      <th>68410</th>\n",
       "      <th>68412</th>\n",
       "      <th>68417</th>\n",
       "      <th>68429</th>\n",
       "      <th>68447</th>\n",
       "      <th>68450</th>\n",
       "      <th>68458</th>\n",
       "      <th>68468</th>\n",
       "      <th>68491</th>\n",
       "    </tr>\n",
       "  </thead>\n",
       "  <tbody>\n",
       "    <tr>\n",
       "      <th>0</th>\n",
       "      <td>ATTVIO02</td>\n",
       "      <td>4</td>\n",
       "      <td>1</td>\n",
       "      <td>1</td>\n",
       "      <td>1</td>\n",
       "      <td>3</td>\n",
       "      <td>2</td>\n",
       "      <td>1</td>\n",
       "      <td>4</td>\n",
       "      <td>4</td>\n",
       "      <td>...</td>\n",
       "      <td>4</td>\n",
       "      <td>1</td>\n",
       "      <td>3</td>\n",
       "      <td>3</td>\n",
       "      <td>1</td>\n",
       "      <td>9</td>\n",
       "      <td>4</td>\n",
       "      <td>4</td>\n",
       "      <td>4</td>\n",
       "      <td>2</td>\n",
       "    </tr>\n",
       "    <tr>\n",
       "      <th>1</th>\n",
       "      <td>NHOOD06</td>\n",
       "      <td>2</td>\n",
       "      <td>4</td>\n",
       "      <td>2</td>\n",
       "      <td>3</td>\n",
       "      <td>4</td>\n",
       "      <td>1</td>\n",
       "      <td>2</td>\n",
       "      <td>9</td>\n",
       "      <td>4</td>\n",
       "      <td>...</td>\n",
       "      <td>1</td>\n",
       "      <td>2</td>\n",
       "      <td>1</td>\n",
       "      <td>4</td>\n",
       "      <td>1</td>\n",
       "      <td>2</td>\n",
       "      <td>4</td>\n",
       "      <td>1</td>\n",
       "      <td>4</td>\n",
       "      <td>2</td>\n",
       "    </tr>\n",
       "    <tr>\n",
       "      <th>2</th>\n",
       "      <td>SELFC09</td>\n",
       "      <td>2</td>\n",
       "      <td>1</td>\n",
       "      <td>2</td>\n",
       "      <td>2</td>\n",
       "      <td>2</td>\n",
       "      <td>1</td>\n",
       "      <td>2</td>\n",
       "      <td>2</td>\n",
       "      <td>2</td>\n",
       "      <td>...</td>\n",
       "      <td>4</td>\n",
       "      <td>2</td>\n",
       "      <td>2</td>\n",
       "      <td>1</td>\n",
       "      <td>3</td>\n",
       "      <td>4</td>\n",
       "      <td>2</td>\n",
       "      <td>1</td>\n",
       "      <td>2</td>\n",
       "      <td>2</td>\n",
       "    </tr>\n",
       "    <tr>\n",
       "      <th>3</th>\n",
       "      <td>NHOOD07</td>\n",
       "      <td>2</td>\n",
       "      <td>4</td>\n",
       "      <td>2</td>\n",
       "      <td>1</td>\n",
       "      <td>4</td>\n",
       "      <td>2</td>\n",
       "      <td>2</td>\n",
       "      <td>4</td>\n",
       "      <td>2</td>\n",
       "      <td>...</td>\n",
       "      <td>1</td>\n",
       "      <td>2</td>\n",
       "      <td>1</td>\n",
       "      <td>2</td>\n",
       "      <td>1</td>\n",
       "      <td>2</td>\n",
       "      <td>3</td>\n",
       "      <td>1</td>\n",
       "      <td>4</td>\n",
       "      <td>1</td>\n",
       "    </tr>\n",
       "    <tr>\n",
       "      <th>4</th>\n",
       "      <td>ATTVIO01</td>\n",
       "      <td>3</td>\n",
       "      <td>1</td>\n",
       "      <td>2</td>\n",
       "      <td>1</td>\n",
       "      <td>3</td>\n",
       "      <td>2</td>\n",
       "      <td>4</td>\n",
       "      <td>4</td>\n",
       "      <td>4</td>\n",
       "      <td>...</td>\n",
       "      <td>1</td>\n",
       "      <td>2</td>\n",
       "      <td>1</td>\n",
       "      <td>2</td>\n",
       "      <td>3</td>\n",
       "      <td>1</td>\n",
       "      <td>3</td>\n",
       "      <td>4</td>\n",
       "      <td>3</td>\n",
       "      <td>2</td>\n",
       "    </tr>\n",
       "  </tbody>\n",
       "</table>\n",
       "<p>5 rows × 7443 columns</p>\n",
       "</div>"
      ],
      "text/plain": [
       "   Features  11  21  45  50  57  68  82  118  119  ...  68404  68410  68412  \\\n",
       "0  ATTVIO02   4   1   1   1   3   2   1    4    4  ...      4      1      3   \n",
       "1   NHOOD06   2   4   2   3   4   1   2    9    4  ...      1      2      1   \n",
       "2   SELFC09   2   1   2   2   2   1   2    2    2  ...      4      2      2   \n",
       "3   NHOOD07   2   4   2   1   4   2   2    4    2  ...      1      2      1   \n",
       "4  ATTVIO01   3   1   2   1   3   2   4    4    4  ...      1      2      1   \n",
       "\n",
       "   68417  68429  68447  68450  68458  68468  68491  \n",
       "0      3      1      9      4      4      4      2  \n",
       "1      4      1      2      4      1      4      2  \n",
       "2      1      3      4      2      1      2      2  \n",
       "3      2      1      2      3      1      4      1  \n",
       "4      2      3      1      3      4      3      2  \n",
       "\n",
       "[5 rows x 7443 columns]"
      ]
     },
     "execution_count": 3,
     "metadata": {},
     "output_type": "execute_result"
    }
   ],
   "source": [
    "df = pd.read_csv('Final.csv')\n",
    "subset_df = df[(df['EXTOLTP'].isin([0, 1])) & (df['WEAPLTP'] == 1)]\n",
    "df_1 = (subset_df[['ATTVIO02', 'NHOOD06', 'SELFC09', 'NHOOD07', 'ATTVIO01', 'NHOOD05', 'ATTVIO04', 'ATSCH05', 'FRNDAC04', 'NIGHTACT', 'TRUANCY', 'ATTVIO05', 'FAMILY', 'SELFC08']]).transpose() \n",
    "df_reset = df_1.reset_index()  # Reset the index, which will create a numerical index\n",
    "item_df = df_reset.rename(columns={'index': 'Features'}) \n",
    "print(item_df.shape)\n",
    "item_df.head()"
   ]
  },
  {
   "cell_type": "code",
   "execution_count": 5,
   "id": "bf1d9dab",
   "metadata": {},
   "outputs": [
    {
     "name": "stdout",
     "output_type": "stream",
     "text": [
      "<bound method NDFrame.head of     21     45     50     57     68     82     118    119    134    144    ...  \\\n",
      "0       1      1      1      3      2      1      4      4      9      4  ...   \n",
      "1       4      2      3      4      1      2      9      4      1      4  ...   \n",
      "2       1      2      2      2      1      2      2      2      1      3  ...   \n",
      "3       4      2      1      4      2      2      4      2      4      3  ...   \n",
      "4       1      2      1      3      2      4      4      4      2      4  ...   \n",
      "5       4      2      2      4      2      2      3      1      1      3  ...   \n",
      "6       1      2      2      3      1      3      4      3      3      3  ...   \n",
      "7       4      2      3      4      2      2      4      4      3      3  ...   \n",
      "8       2      1      2      2      1      2      2      2      1      9  ...   \n",
      "9       8      8      4      8      5      8     97      3      8      5  ...   \n",
      "10      2      2      1      1      1      1      3      2      1      2  ...   \n",
      "11      1      3      1      4      4      3      3      3      3      4  ...   \n",
      "12      2      1      1      3      7      1      4      1      2      1  ...   \n",
      "13      1      2      1      3      4      1      2      1      3      3  ...   \n",
      "\n",
      "    68404  68410  68412  68417  68429  68447  68450  68458  68468  68491  \n",
      "0       4      1      3      3      1      9      4      4      4      2  \n",
      "1       1      2      1      4      1      2      4      1      4      2  \n",
      "2       4      2      2      1      3      4      2      1      2      2  \n",
      "3       1      2      1      2      1      2      3      1      4      1  \n",
      "4       1      2      1      2      3      1      3      4      3      2  \n",
      "5       1      2      1      1      2      2      3      1      4      2  \n",
      "6       1      1      2      1      1      4      3      1      2      2  \n",
      "7       4      3      1      3      4      4      3      1      2      4  \n",
      "8       1      1      1      2      2      1      1      1      2      1  \n",
      "9       3      4      3      5      3      6      6      4      8      8  \n",
      "10      1      3      3      2      3      3      2      2      3      1  \n",
      "11      1      4      3      4      3      4      4      1      2      1  \n",
      "12      1      2      3      1      1      3      1      1      7      3  \n",
      "13      1      2      1      4      4      4      2      2      4      2  \n",
      "\n",
      "[14 rows x 7441 columns]>\n"
     ]
    }
   ],
   "source": [
    "X = item_df.iloc[:,2:7443]\n",
    "# X.head()\n",
    "\n",
    "print(X.head)\n",
    "pca = decomposition.PCA(n_components=2)\n",
    "pca.fit(X)\n",
    "PC = pca.transform(X)"
   ]
  },
  {
   "cell_type": "code",
   "execution_count": 6,
   "id": "355905cc",
   "metadata": {},
   "outputs": [],
   "source": [
    "mds = MDS(n_components=2, random_state=0)\n",
    "MD = mds.fit_transform(X)"
   ]
  },
  {
   "cell_type": "code",
   "execution_count": 7,
   "id": "94f06ac9",
   "metadata": {
    "scrolled": true
   },
   "outputs": [
    {
     "name": "stdout",
     "output_type": "stream",
     "text": [
      "[[ -93.8844612   -48.28715066]\n",
      " [ -96.53010129  -48.78731787]\n",
      " [ -92.10048979  -48.07827771]\n",
      " [ -91.75993306  -47.46083002]\n",
      " [ -89.09461541  -49.22635199]\n",
      " [ -90.9537554   -47.17490996]\n",
      " [ -89.4336364   -49.94765722]\n",
      " [ -82.06697961  -45.90102107]\n",
      " [-103.23962145  -49.10726622]\n",
      " [1207.97893571    8.50170723]\n",
      " [-104.72109611  -44.74766213]\n",
      " [ -81.5381048   -47.02656216]\n",
      " [-111.08867541  562.52250922]\n",
      " [ -81.56746578  -45.27920944]]\n"
     ]
    }
   ],
   "source": [
    "print(PC[:, :2])"
   ]
  },
  {
   "cell_type": "code",
   "execution_count": 8,
   "id": "30e6dc39",
   "metadata": {},
   "outputs": [
    {
     "name": "stdout",
     "output_type": "stream",
     "text": [
      "[[   33.42270971   164.38780024]\n",
      " [  -39.37303597    17.22747007]\n",
      " [  -30.40143663   129.57530781]\n",
      " [    5.3159993      9.81522441]\n",
      " [   51.12709723   115.31854352]\n",
      " [   29.35914791    33.25877868]\n",
      " [   85.16963124   183.96483524]\n",
      " [  130.31395074    29.88149466]\n",
      " [  -22.03817427   206.69205705]\n",
      " [  368.56082909 -1152.46181011]\n",
      " [  -72.34315049    81.9267171 ]\n",
      " [  104.87355961   112.75049599]\n",
      " [ -572.08467844   -76.42755047]\n",
      " [  -71.90244902   144.09063581]]\n"
     ]
    }
   ],
   "source": [
    "print(MD[:,:2])"
   ]
  },
  {
   "cell_type": "code",
   "execution_count": 9,
   "id": "3d56b23e",
   "metadata": {},
   "outputs": [
    {
     "data": {
      "text/html": [
       "<div>\n",
       "<style scoped>\n",
       "    .dataframe tbody tr th:only-of-type {\n",
       "        vertical-align: middle;\n",
       "    }\n",
       "\n",
       "    .dataframe tbody tr th {\n",
       "        vertical-align: top;\n",
       "    }\n",
       "\n",
       "    .dataframe thead th {\n",
       "        text-align: right;\n",
       "    }\n",
       "</style>\n",
       "<table border=\"1\" class=\"dataframe\">\n",
       "  <thead>\n",
       "    <tr style=\"text-align: right;\">\n",
       "      <th></th>\n",
       "      <th>Features</th>\n",
       "      <th>PC1</th>\n",
       "      <th>PC2</th>\n",
       "    </tr>\n",
       "  </thead>\n",
       "  <tbody>\n",
       "    <tr>\n",
       "      <th>0</th>\n",
       "      <td>ATTVIO02</td>\n",
       "      <td>-93.884461</td>\n",
       "      <td>-48.287151</td>\n",
       "    </tr>\n",
       "    <tr>\n",
       "      <th>1</th>\n",
       "      <td>NHOOD06</td>\n",
       "      <td>-96.530101</td>\n",
       "      <td>-48.787318</td>\n",
       "    </tr>\n",
       "    <tr>\n",
       "      <th>2</th>\n",
       "      <td>SELFC09</td>\n",
       "      <td>-92.100490</td>\n",
       "      <td>-48.078278</td>\n",
       "    </tr>\n",
       "    <tr>\n",
       "      <th>3</th>\n",
       "      <td>NHOOD07</td>\n",
       "      <td>-91.759933</td>\n",
       "      <td>-47.460830</td>\n",
       "    </tr>\n",
       "    <tr>\n",
       "      <th>4</th>\n",
       "      <td>ATTVIO01</td>\n",
       "      <td>-89.094615</td>\n",
       "      <td>-49.226352</td>\n",
       "    </tr>\n",
       "  </tbody>\n",
       "</table>\n",
       "</div>"
      ],
      "text/plain": [
       "   Features        PC1        PC2\n",
       "0  ATTVIO02 -93.884461 -48.287151\n",
       "1   NHOOD06 -96.530101 -48.787318\n",
       "2   SELFC09 -92.100490 -48.078278\n",
       "3   NHOOD07 -91.759933 -47.460830\n",
       "4  ATTVIO01 -89.094615 -49.226352"
      ]
     },
     "execution_count": 9,
     "metadata": {},
     "output_type": "execute_result"
    }
   ],
   "source": [
    "df11 = item_df.iloc[0:14,0]\n",
    "df1 = pd.DataFrame(df11)\n",
    "df2 = pd.DataFrame(PC, columns = ['PC1','PC2'])\n",
    "df3 = pd.concat([df1,df2], axis=1)\n",
    "df4 = pd.DataFrame(MD, columns = ['MD1','MD2'])\n",
    "df5 = pd.concat([df1,df4], axis=1)\n",
    "df3.head()"
   ]
  },
  {
   "cell_type": "code",
   "execution_count": 10,
   "id": "4f5d192d",
   "metadata": {},
   "outputs": [
    {
     "data": {
      "image/png": "[encoded data removed]",
      "text/plain": [
       "<Figure size 1200x600 with 1 Axes>"
      ]
     },
     "metadata": {},
     "output_type": "display_data"
    }
   ],
   "source": [
    "plt.figure(figsize=(12,6))\n",
    "plt.scatter(df3['PC1'], df3['PC2'], color = 'r', s = 10)\n",
    "\n",
    "for i in range(len(df3)): \n",
    "    row = df3.iloc[i] \n",
    "    name = row['Features'] \n",
    "    x = row['PC1'] \n",
    "    y = row['PC2'] \n",
    "\n",
    "    if name in row['Features']:\n",
    "        plt.text(x + 0.05, y + 0.05, name, color = 'b', fontsize = 10)\n",
    "\n",
    "plt.show()"
   ]
  },
  {
   "cell_type": "code",
   "execution_count": 12,
   "id": "0bef83bf",
   "metadata": {},
   "outputs": [
    {
     "data": {
      "image/png": "[encoded data removed]",
      "text/plain": [
       "<Figure size 1200x600 with 1 Axes>"
      ]
     },
     "metadata": {},
     "output_type": "display_data"
    }
   ],
   "source": [
    "plt.figure(figsize=(12,6))\n",
    "plt.scatter(df5['MD1'], df5['MD2'], color = 'r', s = 10)\n",
    "\n",
    "for i in range(len(df5)): \n",
    "    row = df5.iloc[i] \n",
    "    name = row['Features'] \n",
    "    x = row['MD1'] \n",
    "    y = row['MD2'] \n",
    "\n",
    "    if name in row['Features']:\n",
    "        plt.text(x + 0.05, y + 0.05, name, color = 'b', fontsize = 10)\n",
    "\n",
    "plt.show()"
   ]
  },
  {
   "cell_type": "code",
   "execution_count": null,
   "id": "42b7524d",
   "metadata": {},
   "outputs": [],
   "source": []
  },
  {
   "cell_type": "code",
   "execution_count": null,
   "id": "d67f3e59",
   "metadata": {},
   "outputs": [],
   "source": []
  }
 ],
 "metadata": {
  "kernelspec": {
   "display_name": "Python 3 (ipykernel)",
   "language": "python",
   "name": "python3"
  },
  "language_info": {
   "codemirror_mode": {
    "name": "ipython",
    "version": 3
   },
   "file_extension": ".py",
   "mimetype": "text/x-python",
   "name": "python",
   "nbconvert_exporter": "python",
   "pygments_lexer": "ipython3",
   "version": "3.11.5"
  }
 },
 "nbformat": 4,
 "nbformat_minor": 5
}
